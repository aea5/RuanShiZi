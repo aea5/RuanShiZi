{
 "cells": [
  {
   "cell_type": "code",
   "execution_count": 162,
   "metadata": {},
   "outputs": [],
   "source": [
    "import pandas as pd\n",
    "from datetime import datetime\n",
    "import numpy as np\n",
    "import dataframe_image as dfi\n",
    "import matplotlib.pyplot as plt\n",
    "from pprint import pprint"
   ]
  },
  {
   "cell_type": "code",
   "execution_count": 163,
   "metadata": {},
   "outputs": [],
   "source": [
    "def printImg(df, filename):\n",
    "    df_styled = df.style.background_gradient() #adding a gradient based on values in cell\n",
    "    dfi.export(df_styled, filename, max_cols=-1, max_rows=-1)\n",
    "\n",
    "playerAlias = {\n",
    "    '76561198265344418': '心情在变',\n",
    "    '76561198086330270': 'Pangpang',\n",
    "    '76561198089895773': '张东升杀疯了',\n",
    "    '76561198840251113': '卡卡罗特丶',\n",
    "    '76561198149571378': '蓝枫',\n",
    "    '76561198102247968': '真的假的',\n",
    "    '76561198071455445': 'inflame',\n",
    "    '76561198042593402' : 'Faith',\n",
    "    '76561198100443877' : 'Axx',\n",
    "    '76561198050403391' : '雕哥',\n",
    "    '76561198041195466' : 'Nono',\n",
    "    '76561198103102185' :  '蛋饼',\n",
    "    '76561198987708490' :  'Just',\n",
    "    '76561198412855736' :  '低手坟墓',\n",
    "    '76561198141216409' :  '仔子',\n",
    "    '76561198190932269' :  '天启骑士',\n",
    "    '76561198046300284' :  'DC',\n",
    "    '76561198210619341' :  'Yuzu',\n",
    "    '76561198090681764' :  '霸气',\n",
    "    '76561198050296953' :  'Ch',\n",
    "    '76561198061944707' :  '小刘',\n",
    "    '76561198133645563' :  'Afuwhy',\n",
    "    '76561198047050252' :  '老蔡',\n",
    "    '76561198073971421' :  'ZSMJ',\n",
    "    '76561198048774243' :  'Hao',\n",
    "    '76561198061149436' :  '狗哥',\n",
    "    '76561198107128764' :  '皮露露可',\n",
    "    '76561198062910293' :  'Iceice',\n",
    "    '76561198068647788' :  '塞拉',\n",
    "    '76561198049637316' :  '谢彬',\n",
    "    '76561198051157922' :  '龙神',\n",
    "    '76561198050310737' :  '枫哥',\n",
    "    '76561198109718719' :  '烈女',\n",
    "    '76561198049423334' :  '大mu',\n",
    "    '76561198051147609' :  '宝哥',\n",
    "    '76561198069346783' :  '566'\n",
    "}\n",
    "\n",
    "# for SteamID only\n",
    "playerList = [*playerAlias]"
   ]
  },
  {
   "cell_type": "markdown",
   "metadata": {},
   "source": [
    "### 读取文件\n",
    "shape = (1531, 15), 玩家数据在 team_detail 列"
   ]
  },
  {
   "cell_type": "code",
   "execution_count": 164,
   "metadata": {},
   "outputs": [
    {
     "data": {
      "text/plain": [
       "(1531, 15)"
      ]
     },
     "execution_count": 164,
     "metadata": {},
     "output_type": "execute_result"
    }
   ],
   "source": [
    "df = pd.read_json('match_detail.json').T\n",
    "df.index = [ round(x/10e8) for x in df.index.astype(int).tolist()]  # index 被默认转成了timestamp,再给转回来\n",
    "df.shape"
   ]
  },
  {
   "cell_type": "code",
   "execution_count": 165,
   "metadata": {},
   "outputs": [
    {
     "data": {
      "text/html": [
       "<div>\n",
       "<style scoped>\n",
       "    .dataframe tbody tr th:only-of-type {\n",
       "        vertical-align: middle;\n",
       "    }\n",
       "\n",
       "    .dataframe tbody tr th {\n",
       "        vertical-align: top;\n",
       "    }\n",
       "\n",
       "    .dataframe thead th {\n",
       "        text-align: right;\n",
       "    }\n",
       "</style>\n",
       "<table border=\"1\" class=\"dataframe\">\n",
       "  <thead>\n",
       "    <tr style=\"text-align: right;\">\n",
       "      <th></th>\n",
       "      <th>pwa_match_index</th>\n",
       "      <th>win_team</th>\n",
       "      <th>steamNickname</th>\n",
       "      <th>start_timestamp</th>\n",
       "      <th>match_id</th>\n",
       "      <th>pwa_score_change</th>\n",
       "      <th>is_win</th>\n",
       "      <th>pwa_match_id</th>\n",
       "      <th>game_type</th>\n",
       "      <th>duration</th>\n",
       "      <th>team_detail</th>\n",
       "      <th>end_timestamp</th>\n",
       "      <th>pwa_score_after</th>\n",
       "      <th>steamAvatar</th>\n",
       "      <th>pwa_pre_rank</th>\n",
       "    </tr>\n",
       "  </thead>\n",
       "  <tbody>\n",
       "    <tr>\n",
       "      <th>6679959318</th>\n",
       "      <td>None</td>\n",
       "      <td>dire</td>\n",
       "      <td>None</td>\n",
       "      <td>1658917673</td>\n",
       "      <td>6679959318</td>\n",
       "      <td>None</td>\n",
       "      <td>None</td>\n",
       "      <td>None</td>\n",
       "      <td>0</td>\n",
       "      <td>2304</td>\n",
       "      <td>{'radiant': {'team_damage': 173429, 'team_net_...</td>\n",
       "      <td>1658919977</td>\n",
       "      <td>None</td>\n",
       "      <td>None</td>\n",
       "      <td>None</td>\n",
       "    </tr>\n",
       "    <tr>\n",
       "      <th>6679908006</th>\n",
       "      <td>None</td>\n",
       "      <td>radiant</td>\n",
       "      <td>None</td>\n",
       "      <td>1658914566</td>\n",
       "      <td>6679908006</td>\n",
       "      <td>None</td>\n",
       "      <td>None</td>\n",
       "      <td>None</td>\n",
       "      <td>0</td>\n",
       "      <td>2421</td>\n",
       "      <td>{'radiant': {'team_damage': 208516, 'team_net_...</td>\n",
       "      <td>1658916987</td>\n",
       "      <td>None</td>\n",
       "      <td>None</td>\n",
       "      <td>None</td>\n",
       "    </tr>\n",
       "  </tbody>\n",
       "</table>\n",
       "</div>"
      ],
      "text/plain": [
       "           pwa_match_index win_team steamNickname start_timestamp    match_id  \\\n",
       "6679959318            None     dire          None      1658917673  6679959318   \n",
       "6679908006            None  radiant          None      1658914566  6679908006   \n",
       "\n",
       "           pwa_score_change is_win pwa_match_id game_type duration  \\\n",
       "6679959318             None   None         None         0     2304   \n",
       "6679908006             None   None         None         0     2421   \n",
       "\n",
       "                                                  team_detail end_timestamp  \\\n",
       "6679959318  {'radiant': {'team_damage': 173429, 'team_net_...    1658919977   \n",
       "6679908006  {'radiant': {'team_damage': 208516, 'team_net_...    1658916987   \n",
       "\n",
       "           pwa_score_after steamAvatar pwa_pre_rank  \n",
       "6679959318            None        None         None  \n",
       "6679908006            None        None         None  "
      ]
     },
     "execution_count": 165,
     "metadata": {},
     "output_type": "execute_result"
    }
   ],
   "source": [
    "df.head(2)"
   ]
  },
  {
   "cell_type": "code",
   "execution_count": 166,
   "metadata": {},
   "outputs": [],
   "source": [
    "for game_id, game in df.iterrows():\n",
    "    # 检查每一场游戏\n",
    "    game = game.to_dict()   # 转化成dict\n",
    "    break\n"
   ]
  },
  {
   "cell_type": "code",
   "execution_count": 167,
   "metadata": {},
   "outputs": [],
   "source": [
    "\n",
    "\n",
    "def parseWinRate(game, playerId):\n",
    "    \n",
    "    isDireWin = game['win_team'] == 'dire'\n",
    "    dt = datetime.fromtimestamp(game['end_timestamp'])\n",
    "\n",
    "    players = {}    # store player detail\n",
    "    # for radiant side, 5 players\n",
    "    for player in game['team_detail']['radiant']['player_detail']:\n",
    "        steamId64 = player['id_steam64']\n",
    "        players[steamId64] = player\n",
    "\n",
    "    # for dire side, 5 players\n",
    "    for player in game['team_detail']['dire']['player_detail']:\n",
    "        steamId64 = player['id_steam64']\n",
    "        players[steamId64] = player\n",
    "\n",
    "    # skip if the queried player not in this game\n",
    "    if playerId not in players:\n",
    "        return {}\n",
    "\n",
    "    # if present in this game, return datetime and 1 if wins, 0 if loses\n",
    "\n",
    "    return {dt : players[playerId]['is_win'] }"
   ]
  },
  {
   "cell_type": "code",
   "execution_count": 168,
   "metadata": {},
   "outputs": [],
   "source": [
    "win_rate = {}\n",
    "\n",
    "\n",
    "for game_id, game in df.iterrows():\n",
    "    # 检查每一场游戏\n",
    "    game = game.to_dict()   # 转化成dict\n",
    "    \n",
    "    # check winrate and insert into dict\n",
    "    win_rate.update( parseWinRate(game, '76561198050310737' ) )\n",
    "\n",
    "\n"
   ]
  },
  {
   "cell_type": "code",
   "execution_count": 198,
   "metadata": {},
   "outputs": [
    {
     "data": {
      "text/plain": [
       "count    1044.000000\n",
       "mean        0.446360\n",
       "std         0.497353\n",
       "min         0.000000\n",
       "25%         0.000000\n",
       "50%         0.000000\n",
       "75%         1.000000\n",
       "max         1.000000\n",
       "Name: win_rate, dtype: float64"
      ]
     },
     "execution_count": 198,
     "metadata": {},
     "output_type": "execute_result"
    }
   ],
   "source": [
    "wr.describe()"
   ]
  },
  {
   "cell_type": "code",
   "execution_count": 197,
   "metadata": {},
   "outputs": [
    {
     "data": {
      "text/plain": [
       "2022-07-27 09:41:24    0\n",
       "2022-07-27 08:58:15    1\n",
       "2022-07-27 07:06:02    0\n",
       "2022-07-27 06:12:51    1\n",
       "2022-07-27 05:18:05    1\n",
       "                      ..\n",
       "2022-06-03 06:39:37    0\n",
       "2022-05-01 09:34:54    1\n",
       "2022-04-25 07:21:31    1\n",
       "2022-04-20 12:57:44    0\n",
       "2022-07-26 14:41:15    1\n",
       "Name: win_rate, Length: 1044, dtype: int64"
      ]
     },
     "execution_count": 197,
     "metadata": {},
     "output_type": "execute_result"
    }
   ],
   "source": [
    "wr"
   ]
  },
  {
   "cell_type": "code",
   "execution_count": 169,
   "metadata": {},
   "outputs": [
    {
     "data": {
      "text/plain": [
       "2022-07-27 09:41:24    0\n",
       "2022-07-27 08:58:15    1\n",
       "2022-07-27 07:06:02    0\n",
       "2022-07-27 06:12:51    1\n",
       "2022-07-27 05:18:05    1\n",
       "                      ..\n",
       "2022-06-03 06:39:37    0\n",
       "2022-05-01 09:34:54    1\n",
       "2022-04-25 07:21:31    1\n",
       "2022-04-20 12:57:44    0\n",
       "2022-07-26 14:41:15    1\n",
       "Name: win_rate, Length: 1044, dtype: int64"
      ]
     },
     "execution_count": 169,
     "metadata": {},
     "output_type": "execute_result"
    }
   ],
   "source": [
    "wr = pd.Series(win_rate, name='win_rate')\n",
    "wr"
   ]
  },
  {
   "cell_type": "code",
   "execution_count": 170,
   "metadata": {},
   "outputs": [],
   "source": [
    "x = pd.DataFrame(wr)\n",
    "x.sort_index(inplace=True, ascending=False)"
   ]
  },
  {
   "cell_type": "code",
   "execution_count": 171,
   "metadata": {},
   "outputs": [
    {
     "data": {
      "text/html": [
       "<div>\n",
       "<style scoped>\n",
       "    .dataframe tbody tr th:only-of-type {\n",
       "        vertical-align: middle;\n",
       "    }\n",
       "\n",
       "    .dataframe tbody tr th {\n",
       "        vertical-align: top;\n",
       "    }\n",
       "\n",
       "    .dataframe thead th {\n",
       "        text-align: right;\n",
       "    }\n",
       "</style>\n",
       "<table border=\"1\" class=\"dataframe\">\n",
       "  <thead>\n",
       "    <tr style=\"text-align: right;\">\n",
       "      <th></th>\n",
       "      <th>win_rate</th>\n",
       "    </tr>\n",
       "  </thead>\n",
       "  <tbody>\n",
       "    <tr>\n",
       "      <th>2022-07-27 09:41:24</th>\n",
       "      <td>0</td>\n",
       "    </tr>\n",
       "    <tr>\n",
       "      <th>2022-07-27 08:58:15</th>\n",
       "      <td>1</td>\n",
       "    </tr>\n",
       "    <tr>\n",
       "      <th>2022-07-27 07:06:02</th>\n",
       "      <td>0</td>\n",
       "    </tr>\n",
       "    <tr>\n",
       "      <th>2022-07-27 06:12:51</th>\n",
       "      <td>1</td>\n",
       "    </tr>\n",
       "    <tr>\n",
       "      <th>2022-07-27 05:18:05</th>\n",
       "      <td>1</td>\n",
       "    </tr>\n",
       "    <tr>\n",
       "      <th>2022-07-27 04:23:56</th>\n",
       "      <td>0</td>\n",
       "    </tr>\n",
       "    <tr>\n",
       "      <th>2022-07-26 14:41:15</th>\n",
       "      <td>1</td>\n",
       "    </tr>\n",
       "    <tr>\n",
       "      <th>2022-07-26 13:32:06</th>\n",
       "      <td>1</td>\n",
       "    </tr>\n",
       "    <tr>\n",
       "      <th>2022-07-26 10:06:47</th>\n",
       "      <td>0</td>\n",
       "    </tr>\n",
       "    <tr>\n",
       "      <th>2022-07-26 08:51:14</th>\n",
       "      <td>0</td>\n",
       "    </tr>\n",
       "    <tr>\n",
       "      <th>2022-07-25 14:40:12</th>\n",
       "      <td>1</td>\n",
       "    </tr>\n",
       "    <tr>\n",
       "      <th>2022-07-25 13:56:18</th>\n",
       "      <td>1</td>\n",
       "    </tr>\n",
       "    <tr>\n",
       "      <th>2022-07-25 13:10:57</th>\n",
       "      <td>0</td>\n",
       "    </tr>\n",
       "    <tr>\n",
       "      <th>2022-07-25 12:20:11</th>\n",
       "      <td>1</td>\n",
       "    </tr>\n",
       "    <tr>\n",
       "      <th>2022-07-25 10:36:20</th>\n",
       "      <td>0</td>\n",
       "    </tr>\n",
       "    <tr>\n",
       "      <th>2022-07-25 09:32:25</th>\n",
       "      <td>1</td>\n",
       "    </tr>\n",
       "    <tr>\n",
       "      <th>2022-07-25 08:37:59</th>\n",
       "      <td>1</td>\n",
       "    </tr>\n",
       "    <tr>\n",
       "      <th>2022-07-25 07:03:41</th>\n",
       "      <td>0</td>\n",
       "    </tr>\n",
       "    <tr>\n",
       "      <th>2022-07-24 14:56:36</th>\n",
       "      <td>1</td>\n",
       "    </tr>\n",
       "    <tr>\n",
       "      <th>2022-07-24 14:11:08</th>\n",
       "      <td>0</td>\n",
       "    </tr>\n",
       "  </tbody>\n",
       "</table>\n",
       "</div>"
      ],
      "text/plain": [
       "                     win_rate\n",
       "2022-07-27 09:41:24         0\n",
       "2022-07-27 08:58:15         1\n",
       "2022-07-27 07:06:02         0\n",
       "2022-07-27 06:12:51         1\n",
       "2022-07-27 05:18:05         1\n",
       "2022-07-27 04:23:56         0\n",
       "2022-07-26 14:41:15         1\n",
       "2022-07-26 13:32:06         1\n",
       "2022-07-26 10:06:47         0\n",
       "2022-07-26 08:51:14         0\n",
       "2022-07-25 14:40:12         1\n",
       "2022-07-25 13:56:18         1\n",
       "2022-07-25 13:10:57         0\n",
       "2022-07-25 12:20:11         1\n",
       "2022-07-25 10:36:20         0\n",
       "2022-07-25 09:32:25         1\n",
       "2022-07-25 08:37:59         1\n",
       "2022-07-25 07:03:41         0\n",
       "2022-07-24 14:56:36         1\n",
       "2022-07-24 14:11:08         0"
      ]
     },
     "execution_count": 171,
     "metadata": {},
     "output_type": "execute_result"
    }
   ],
   "source": [
    "x.head(20)"
   ]
  },
  {
   "cell_type": "code",
   "execution_count": 202,
   "metadata": {},
   "outputs": [
    {
     "data": {
      "text/plain": [
       "(116, 1)"
      ]
     },
     "execution_count": 202,
     "metadata": {},
     "output_type": "execute_result"
    }
   ],
   "source": [
    "x.resample('1d').agg('mean').shape"
   ]
  },
  {
   "cell_type": "code",
   "execution_count": 172,
   "metadata": {},
   "outputs": [],
   "source": [
    "result = x.resample('1d').agg('mean')"
   ]
  },
  {
   "cell_type": "code",
   "execution_count": 173,
   "metadata": {},
   "outputs": [
    {
     "name": "stderr",
     "output_type": "stream",
     "text": [
      "/opt/homebrew/lib/python3.9/site-packages/dataframe_image/_pandas_accessor.py:69: FutureWarning: this method is deprecated in favour of `Styler.to_html()`\n",
      "  html = '<div>' + obj.render() + '</div>'\n",
      "objc[55382]: Class WebSwapCGLLayer is implemented in both /System/Library/Frameworks/WebKit.framework/Versions/A/Frameworks/WebCore.framework/Versions/A/Frameworks/libANGLE-shared.dylib (0x22c1f56a0) and /Applications/Google Chrome.app/Contents/Frameworks/Google Chrome Framework.framework/Versions/102.0.5005.61/Libraries/libGLESv2.dylib (0x10e4ed368). One of the two will be used. Which one is undefined.\n",
      "[0728/231811.768341:INFO:headless_shell.cc(660)] Written to file /var/folders/kb/m0wnj95x6v557ckp8gk0_f3r0000gn/T/tmpcojc2epw/temp.png.\n",
      "objc[55396]: Class WebSwapCGLLayer is implemented in both /System/Library/Frameworks/WebKit.framework/Versions/A/Frameworks/WebCore.framework/Versions/A/Frameworks/libANGLE-shared.dylib (0x22c1f56a0) and /Applications/Google Chrome.app/Contents/Frameworks/Google Chrome Framework.framework/Versions/102.0.5005.61/Libraries/libGLESv2.dylib (0x121819368). One of the two will be used. Which one is undefined.\n",
      "[0728/231812.549303:INFO:headless_shell.cc(660)] Written to file /var/folders/kb/m0wnj95x6v557ckp8gk0_f3r0000gn/T/tmp81u_bkqo/temp.png.\n",
      "objc[55407]: Class WebSwapCGLLayer is implemented in both /System/Library/Frameworks/WebKit.framework/Versions/A/Frameworks/WebCore.framework/Versions/A/Frameworks/libANGLE-shared.dylib (0x22c1f56a0) and /Applications/Google Chrome.app/Contents/Frameworks/Google Chrome Framework.framework/Versions/102.0.5005.61/Libraries/libGLESv2.dylib (0x1231c5368). One of the two will be used. Which one is undefined.\n",
      "[0728/231813.573696:INFO:headless_shell.cc(660)] Written to file /var/folders/kb/m0wnj95x6v557ckp8gk0_f3r0000gn/T/tmpu52j1vjv/temp.png.\n",
      "objc[55420]: Class WebSwapCGLLayer is implemented in both /System/Library/Frameworks/WebKit.framework/Versions/A/Frameworks/WebCore.framework/Versions/A/Frameworks/libANGLE-shared.dylib (0x22c1f56a0) and /Applications/Google Chrome.app/Contents/Frameworks/Google Chrome Framework.framework/Versions/102.0.5005.61/Libraries/libGLESv2.dylib (0x10e845368). One of the two will be used. Which one is undefined.\n",
      "[0728/231814.896642:INFO:headless_shell.cc(660)] Written to file /var/folders/kb/m0wnj95x6v557ckp8gk0_f3r0000gn/T/tmp0aoswk37/temp.png.\n",
      "objc[55430]: Class WebSwapCGLLayer is implemented in both /System/Library/Frameworks/WebKit.framework/Versions/A/Frameworks/WebCore.framework/Versions/A/Frameworks/libANGLE-shared.dylib (0x22c1f56a0) and /Applications/Google Chrome.app/Contents/Frameworks/Google Chrome Framework.framework/Versions/102.0.5005.61/Libraries/libGLESv2.dylib (0x10dced368). One of the two will be used. Which one is undefined.\n",
      "[0728/231816.730669:INFO:headless_shell.cc(660)] Written to file /var/folders/kb/m0wnj95x6v557ckp8gk0_f3r0000gn/T/tmpt8z400d_/temp.png.\n"
     ]
    }
   ],
   "source": [
    "printImg(result, 'result.png')"
   ]
  },
  {
   "cell_type": "code",
   "execution_count": 174,
   "metadata": {},
   "outputs": [],
   "source": [
    "import pandas as pd\n",
    "import matplotlib.pyplot as plt\n",
    "import seaborn as sns\n",
    "import matplotlib.dates as md\n",
    "plt.style.use('ggplot')\n",
    "import matplotlib\n",
    "matplotlib.rcParams['font.sans-serif'] = ['SimHei']\n",
    "matplotlib.rcParams['axes.unicode_minus']=False"
   ]
  },
  {
   "cell_type": "code",
   "execution_count": 175,
   "metadata": {},
   "outputs": [
    {
     "data": {
      "image/png": "[encoded data removed]",
      "text/plain": [
       "<Figure size 1440x576 with 1 Axes>"
      ]
     },
     "metadata": {},
     "output_type": "display_data"
    }
   ],
   "source": [
    "sns.set(rc={'figure.figsize':(20,8)})\n",
    "graph = sns.barplot(x='index', y=\"win_rate\", palette ='tab10', data=result.reset_index())\n",
    "graph.axhline(0.5)\n",
    "\n",
    "plt.xlabel('Date')\n",
    "plt.ylabel('Win Rate')\n",
    "plt.xticks(rotation=\"90\")\n",
    "x_dates = result.reset_index()['index'].dt.strftime('%Y-%m-%d').sort_values().unique()\n",
    "graph.set_xticklabels(labels=x_dates, rotation=90)\n",
    "plt.show()"
   ]
  },
  {
   "cell_type": "code",
   "execution_count": 192,
   "metadata": {},
   "outputs": [],
   "source": [
    "result = x.resample('1d').agg('mean')\n",
    "\n",
    "result = result.dropna()"
   ]
  },
  {
   "cell_type": "code",
   "execution_count": 196,
   "metadata": {},
   "outputs": [
    {
     "data": {
      "image/png": "[encoded data removed]",
      "text/plain": [
       "<Figure size 1440x576 with 1 Axes>"
      ]
     },
     "metadata": {},
     "output_type": "display_data"
    }
   ],
   "source": [
    "result = x.resample('7d').agg('mean')\n",
    "\n",
    "graph = sns.barplot(x='index', y=\"win_rate\", palette ='tab10',  data=result.reset_index())\n",
    "graph.axhline(0.5)\n",
    "\n",
    "plt.xlabel('Date')\n",
    "plt.ylabel('Win Rate')\n",
    "plt.xticks(rotation=\"90\")\n",
    "x_dates = result.reset_index()['index'].dt.strftime('%Y-%m-%d').sort_values().unique()\n",
    "graph.set_xticklabels(labels=x_dates, rotation=90)\n",
    "plt.show()"
   ]
  },
  {
   "cell_type": "code",
   "execution_count": null,
   "metadata": {},
   "outputs": [],
   "source": []
  }
 ],
 "metadata": {
  "kernelspec": {
   "display_name": "Python 3.9.13 64-bit",
   "language": "python",
   "name": "python3"
  },
  "language_info": {
   "codemirror_mode": {
    "name": "ipython",
    "version": 3
   },
   "file_extension": ".py",
   "mimetype": "text/x-python",
   "name": "python",
   "nbconvert_exporter": "python",
   "pygments_lexer": "ipython3",
   "version": "3.9.13"
  },
  "orig_nbformat": 4,
  "vscode": {
   "interpreter": {
    "hash": "b0fa6594d8f4cbf19f97940f81e996739fb7646882a419484c72d19e05852a7e"
   }
  }
 },
 "nbformat": 4,
 "nbformat_minor": 2
}
